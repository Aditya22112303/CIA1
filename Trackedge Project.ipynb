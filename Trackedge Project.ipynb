import mysql.connector
myconn = mysql.connector.connect(
  host="localhost",
  user="yourusername",
  password="yourpassword"
) 
cuobj = myconn.cursor()


def checkdb(db):
    st = "SHOW databases"
    cuobj.execute(st)
    da = cuobj.fetchall()
    for i in da:
        if db in i:
            print("Database already exists...\nAcessing Database...")
            usedb(db)
        else:
            createdb(db)

def createdb(db):
    st = "CREATE DATABASE",db
    cuobj.execute(st)
    usedb(db)

def usedb(db):
    st = "USE",db
    cuobj.execute(st)

def displaytab():
    cuobj.execute("Show Tables")
    tab = cuobj.fetchall()
    return tab

def createtable(name):
    st = "CREATE TABLE",name,'''(
    Sl.No. int NOT NULL PRIMARY KEY,
    Dr_Date DATE,
    Dr_Particular varchar(50),
    Dr_JF int,
    Dr_Amount int,
    Cr_Date DATE,
    Cr_Particular varchar(50),
    Cr_JF int
    Cr_Amount int
    );'''
    cuobj.execute(st)

def updateend(name,sno = 0):
    if(sno == 0):
        sno = int(input("Enter Sl. No. "))
    c = input("Enter Credit or Debit\nCr/Dr ")
    while (True):
        if(c.lower() == "Dr"):
            Date = input("Enter Day ") + '-'+ input("Enter Month ") + '-' + input("Enter Year ")
            Part = input("Enter Particulars")
            JF = input("Enter Journal Folio ")
            Amt = input("Enter Amount ")
            st = "Insert Into",name,"(Sl.No.,Dr_Date,Dr_Particulars,Dr_JF,Dr_Amount)","Values("+str(Date)+","+Part+","+JF+","+Amt+")"
            cuobj.execute(st)
            break
        elif(c.lower() == "Cr"):
            Date = input("Enter Day ") + '-'+ input("Enter Month ") + '-' + input("Enter Year ")
            Part = input("Enter Particulars")
            JF = input("Enter Journal Folio ")
            Amt = input("Enter Amount ") 
            st = "Insert Into",name,"(Sl.No.,Cr_Date,Cr_Particulars,Cr_JF,Cr_Amount)","Values("+str(Date)+","+Part+","+JF+","+Amt+")"
            cuobj.execute(st)
            break
        else:
            print("Invalid input")

def updatebw(name):
    sno = int(input("Enter Sl No. to be inserted in "))
    st = "UPDATE",name,"SET Sl.No. = Sl.No. + 1 where Sl.No. > ",str(sno),"ORDER BY Sl.No. ASC"
    cuobj.execute(st)
    updateend(name,sno)
