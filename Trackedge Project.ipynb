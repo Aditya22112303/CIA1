{
 "cells": [
  {
   "cell_type": "code",
   "execution_count": null,
   "metadata": {},
   "outputs": [],
   "source": [
    "import mysql.connector\n",
    "myconn = mysql.connector.connect(\n",
    "  host=\"localhost\",\n",
    "  user=\"yourusername\",\n",
    "  password=\"yourpassword\"\n",
    ") \n",
    "cuobj = myconn.cursor()"
   ]
  },
  {
   "cell_type": "code",
   "execution_count": null,
   "metadata": {},
   "outputs": [],
   "source": [
    "def checkdb(db):\n",
    "    st = \"SHOW databases\"\n",
    "    cuobj.execute(st)\n",
    "    da = cuobj.fetchall()\n",
    "    for i in da:\n",
    "        if db in i:\n",
    "            print(\"Database already exists...\\nAcessing Database...\")\n",
    "            usedb(db)\n",
    "        else:\n",
    "            createdb(db)"
   ]
  },
  {
   "cell_type": "code",
   "execution_count": null,
   "metadata": {},
   "outputs": [],
   "source": [
    "def createdb(db):\n",
    "    st = \"CREATE DATABASE\",db\n",
    "    cuobj.execute(st)\n",
    "    usedb(db)"
   ]
  },
  {
   "cell_type": "code",
   "execution_count": null,
   "metadata": {},
   "outputs": [],
   "source": [
    "def usedb(db):\n",
    "    st = \"USE\",db\n",
    "    cuobj.execute(st)"
   ]
  },
  {
   "cell_type": "code",
   "execution_count": null,
   "metadata": {},
   "outputs": [],
   "source": [
    "def displaytab():\n",
    "    cuobj.execute(\"Show Tables\")\n",
    "    tab = cuobj.fetchall()\n",
    "    return tab"
   ]
  },
  {
   "cell_type": "code",
   "execution_count": null,
   "metadata": {},
   "outputs": [],
   "source": [
    "def createtable(name):\n",
    "    st = \"CREATE TABLE\",name,'''(\n",
    "    Sl.No. int NOT NULL PRIMARY KEY,\n",
    "    Dr_Date DATE,\n",
    "    Dr_Particular varchar(50),\n",
    "    Dr_JF int,\n",
    "    Dr_Amount int,\n",
    "    Cr_Date DATE,\n",
    "    Cr_Particular varchar(50),\n",
    "    Cr_JF int\n",
    "    Cr_Amount int\n",
    "    );'''\n",
    "    cuobj.execute(st)"
   ]
  },
  {
   "cell_type": "code",
   "execution_count": null,
   "metadata": {},
   "outputs": [],
   "source": [
    "def updateend(name,sno = 0):\n",
    "    if(sno == 0):\n",
    "        sno = int(input(\"Enter Sl. No. \"))\n",
    "    c = input(\"Enter Credit or Debit\\nCr/Dr \")\n",
    "    while (True):\n",
    "        if(c.lower() == \"Dr\"):\n",
    "            Date = input(\"Enter Day \") + '-'+ input(\"Enter Month \") + '-' + input(\"Enter Year \")\n",
    "            Part = input(\"Enter Particulars\")\n",
    "            JF = input(\"Enter Journal Folio \")\n",
    "            Amt = input(\"Enter Amount \")\n",
    "            st = \"Insert Into\",name,\"(Sl.No.,Dr_Date,Dr_Particulars,Dr_JF,Dr_Amount)\",\"Values(\"+str(Date)+\",\"+Part+\",\"+JF+\",\"+Amt+\")\"\n",
    "            cuobj.execute(st)\n",
    "            break\n",
    "        elif(c.lower() == \"Cr\"):\n",
    "            Date = input(\"Enter Day \") + '-'+ input(\"Enter Month \") + '-' + input(\"Enter Year \")\n",
    "            Part = input(\"Enter Particulars\")\n",
    "            JF = input(\"Enter Journal Folio \")\n",
    "            Amt = input(\"Enter Amount \") \n",
    "            st = \"Insert Into\",name,\"(Sl.No.,Cr_Date,Cr_Particulars,Cr_JF,Cr_Amount)\",\"Values(\"+str(Date)+\",\"+Part+\",\"+JF+\",\"+Amt+\")\"\n",
    "            cuobj.execute(st)\n",
    "            break\n",
    "        else:\n",
    "            print(\"Invalid input\")"
   ]
  },
  {
   "cell_type": "code",
   "execution_count": null,
   "metadata": {},
   "outputs": [],
   "source": [
    "def updatebw(name):\n",
    "    sno = int(input(\"Enter Sl No. to be inserted in \"))\n",
    "    st = \"UPDATE\",name,\"SET Sl.No. = Sl.No. + 1 where Sl.No. > \",str(sno),\"ORDER BY Sl.No. ASC\"\n",
    "    cuobj.execute(st)\n",
    "    updateend(name,sno)"
   ]
  },
  {
   "cell_type": "code",
   "execution_count": null,
   "metadata": {},
   "outputs": [],
   "source": []
  }
 ],
 "metadata": {
  "kernelspec": {
   "display_name": "Python 3",
   "language": "python",
   "name": "python3"
  },
  "language_info": {
   "codemirror_mode": {
    "name": "ipython",
    "version": 3
   },
   "file_extension": ".py",
   "mimetype": "text/x-python",
   "name": "python",
   "nbconvert_exporter": "python",
   "pygments_lexer": "ipython3",
   "version": "3.9.1"
  }
 },
 "nbformat": 4,
 "nbformat_minor": 4
}
